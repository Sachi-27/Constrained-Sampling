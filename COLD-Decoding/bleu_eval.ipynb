{
 "cells": [
  {
   "cell_type": "code",
   "execution_count": 94,
   "metadata": {},
   "outputs": [],
   "source": [
    "import os\n",
    "os.environ[\"CUDA_DEVICE_ORDER\"]=\"PCI_BUS_ID\"\n",
    "os.environ[\"CUDA_VISIBLE_DEVICES\"]=\"1\"\n",
    "import random\n",
    "import torch\n",
    "from transformers import AutoTokenizer, AutoModelForCausalLM, pipeline\n",
    "from datasets import load_dataset\n",
    "import nltk\n",
    "from nltk.translate.bleu_score import sentence_bleu"
   ]
  },
  {
   "cell_type": "code",
   "execution_count": 95,
   "metadata": {},
   "outputs": [],
   "source": [
    "random.seed(42)\n",
    "device_map = {\"\":0}"
   ]
  },
  {
   "cell_type": "code",
   "execution_count": 96,
   "metadata": {},
   "outputs": [
    {
     "data": {
      "text/plain": [
       "{'concept_set': 'field#look#stand',\n",
       " 'scene': ['The player stood in the field looking at the batter.',\n",
       "  'The coach stands along the field, looking at the goalkeeper.',\n",
       "  'I stood and looked across the field, peacefully.',\n",
       "  'Someone stands, looking around the empty field.'],\n",
       " 'reason': ['A baseball player playing in the field is waiting for the pitcher to pitch the ball to the batter. The player will stand ready while watching the batter.',\n",
       "  'Soccer is played on a field. Soccer has coaches and goalkeepers.',\n",
       "  'You have a better view to look at things when you stand. A field is a setting in which one can be.',\n",
       "  'n/a']}"
      ]
     },
     "execution_count": 96,
     "metadata": {},
     "output_type": "execute_result"
    }
   ],
   "source": [
    "import json \n",
    "with open(\"data/commongen/adversarial/commongen.adversarial.jsonl\", \"r\") as f:\n",
    "    data = [json.loads(line) for line in f]\n",
    "\n",
    "data[0]"
   ]
  },
  {
   "cell_type": "code",
   "execution_count": 97,
   "metadata": {},
   "outputs": [
    {
     "data": {
      "text/plain": [
       "['The player stood in the field looking at the batter.',\n",
       " 'The coach stands along the field, looking at the goalkeeper.',\n",
       " 'I stood and looked across the field, peacefully.',\n",
       " 'Someone stands, looking around the empty field.']"
      ]
     },
     "execution_count": 97,
     "metadata": {},
     "output_type": "execute_result"
    }
   ],
   "source": [
    "concept_sets = [d['concept_set'] for d in data]\n",
    "references_texts = [d['scene'] for d in data]\n",
    "references_texts[0]"
   ]
  },
  {
   "cell_type": "code",
   "execution_count": 98,
   "metadata": {},
   "outputs": [],
   "source": [
    "with open(\"/users/ug21/sachiray/AML/COLD_decoding/data/commongen/adversarial/0f_zx_seed12_0_0_lexical_generation_cw0.500_c2w0.100_lrnllp0.600_len10_topk5_niter2000_frozlen0_winiter1000_noiseiter1_gsstd0.0100_lr0.100_lrratio1.00_lriter1000_50,500,1000,1500_1,0.5,0.1,0.05_output.json\") as f:\n",
    "    pred_data = [json.loads(line) for line in f]"
   ]
  },
  {
   "cell_type": "code",
   "execution_count": 99,
   "metadata": {},
   "outputs": [
    {
     "data": {
      "text/plain": [
       "6"
      ]
     },
     "execution_count": 99,
     "metadata": {},
     "output_type": "execute_result"
    }
   ],
   "source": [
    "len(pred_data)"
   ]
  },
  {
   "cell_type": "code",
   "execution_count": 100,
   "metadata": {},
   "outputs": [],
   "source": [
    "def calculate_bleu_score(refenrence_sentences, translated_sentence):\n",
    "    references_tokenized = [nltk.word_tokenize(reference_sentence.lower()) for reference_sentence in refenrence_sentences]\n",
    "    translated_tokenized = nltk.word_tokenize(translated_sentence.lower())\n",
    "    bleu_score = sentence_bleu(references_tokenized, translated_tokenized, weights=(1,0,0,0))\n",
    "    return bleu_score"
   ]
  },
  {
   "cell_type": "code",
   "execution_count": 101,
   "metadata": {},
   "outputs": [],
   "source": [
    "blue_scores = []\n",
    "for i in range(len(pred_data)):\n",
    "    reference_sentences = references_texts[i]\n",
    "    blue_scores_i = []\n",
    "    for pred in pred_data[i]['generation_complete']:\n",
    "        blue_scores_i.append(calculate_bleu_score(reference_sentences, pred))\n",
    "    blue_scores.append(blue_scores_i)"
   ]
  },
  {
   "cell_type": "code",
   "execution_count": 102,
   "metadata": {},
   "outputs": [
    {
     "data": {
      "text/plain": [
       "(6, 256)"
      ]
     },
     "execution_count": 102,
     "metadata": {},
     "output_type": "execute_result"
    }
   ],
   "source": [
    "len(blue_scores), len(blue_scores[0])"
   ]
  },
  {
   "cell_type": "code",
   "execution_count": 103,
   "metadata": {},
   "outputs": [
    {
     "data": {
      "text/plain": [
       "[0.26316407412257725,\n",
       " 0.30152111940086374,\n",
       " 0.30902595169758973,\n",
       " 0.30972827203409603,\n",
       " 0.37570762612020975,\n",
       " 0.24226407984102988]"
      ]
     },
     "execution_count": 103,
     "metadata": {},
     "output_type": "execute_result"
    }
   ],
   "source": [
    "mean_blue = [sum(blue_scores_i)/len(blue_scores_i) for blue_scores_i in blue_scores]\n",
    "mean_blue"
   ]
  },
  {
   "cell_type": "code",
   "execution_count": 104,
   "metadata": {},
   "outputs": [
    {
     "data": {
      "text/plain": [
       "0.30023518720272774"
      ]
     },
     "execution_count": 104,
     "metadata": {},
     "output_type": "execute_result"
    }
   ],
   "source": [
    "topk_mean = sum(mean_blue)/len(mean_blue)\n",
    "topk_mean"
   ]
  }
 ],
 "metadata": {
  "kernelspec": {
   "display_name": "base",
   "language": "python",
   "name": "python3"
  },
  "language_info": {
   "codemirror_mode": {
    "name": "ipython",
    "version": 3
   },
   "file_extension": ".py",
   "mimetype": "text/x-python",
   "name": "python",
   "nbconvert_exporter": "python",
   "pygments_lexer": "ipython3",
   "version": "3.9.13"
  }
 },
 "nbformat": 4,
 "nbformat_minor": 2
}
