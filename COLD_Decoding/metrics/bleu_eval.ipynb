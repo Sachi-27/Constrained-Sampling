{
 "cells": [
  {
   "cell_type": "code",
   "execution_count": 55,
   "metadata": {},
   "outputs": [],
   "source": [
    "import os\n",
    "import random\n",
    "import sacrebleu\n",
    "import numpy as np"
   ]
  },
  {
   "cell_type": "code",
   "execution_count": 56,
   "metadata": {},
   "outputs": [],
   "source": [
    "random.seed(42)\n",
    "device_map = {\"\":0}"
   ]
  },
  {
   "cell_type": "code",
   "execution_count": 57,
   "metadata": {},
   "outputs": [
    {
     "data": {
      "text/plain": [
       "{'concept_set': 'field#look#stand',\n",
       " 'scene': ['The player stood in the field looking at the batter.',\n",
       "  'The coach stands along the field, looking at the goalkeeper.',\n",
       "  'I stood and looked across the field, peacefully.',\n",
       "  'Someone stands, looking around the empty field.'],\n",
       " 'reason': ['A baseball player playing in the field is waiting for the pitcher to pitch the ball to the batter. The player will stand ready while watching the batter.',\n",
       "  'Soccer is played on a field. Soccer has coaches and goalkeepers.',\n",
       "  'You have a better view to look at things when you stand. A field is a setting in which one can be.',\n",
       "  'n/a']}"
      ]
     },
     "execution_count": 57,
     "metadata": {},
     "output_type": "execute_result"
    }
   ],
   "source": [
    "import json \n",
    "with open(\"data/commongen/commongen.dev.jsonl\", \"r\") as f:\n",
    "    data = [json.loads(line) for line in f]\n",
    "\n",
    "data[0]"
   ]
  },
  {
   "cell_type": "code",
   "execution_count": 58,
   "metadata": {},
   "outputs": [
    {
     "data": {
      "text/plain": [
       "['The player stood in the field looking at the batter.',\n",
       " 'The coach stands along the field, looking at the goalkeeper.',\n",
       " 'I stood and looked across the field, peacefully.',\n",
       " 'Someone stands, looking around the empty field.']"
      ]
     },
     "execution_count": 58,
     "metadata": {},
     "output_type": "execute_result"
    }
   ],
   "source": [
    "concept_sets = [d['concept_set'] for d in data]\n",
    "references_texts = [d['scene'] for d in data]\n",
    "references_texts[0]"
   ]
  },
  {
   "cell_type": "code",
   "execution_count": 59,
   "metadata": {},
   "outputs": [],
   "source": [
    "with open(\"/users/ug21/sachiray/AML/COLD_decoding/data/commongen/beam/seed12_0_5_lexical_generation_cw0.500_c2w0.800_lrnllp0.400_len10_topk0_beamwidth5_topkv250_output.json\") as f:\n",
    "    pred_data = [json.loads(line) for line in f]"
   ]
  },
  {
   "cell_type": "code",
   "execution_count": 60,
   "metadata": {},
   "outputs": [
    {
     "name": "stdout",
     "output_type": "stream",
     "text": [
      "128\n"
     ]
    }
   ],
   "source": [
    "print(len(pred_data[0]['generation_complete']))"
   ]
  },
  {
   "cell_type": "code",
   "execution_count": 61,
   "metadata": {},
   "outputs": [
    {
     "name": "stdout",
     "output_type": "stream",
     "text": [
      "BLEU Score:  [2.7846673486690436, 2.3683821708029456, 2.331446340798231, 3.859126803891013, 2.5481552598686723, 2.63128166005905] 2.753843264014826\n",
      "CHRF Score:  [19.965950313847642, 13.840897233698792, 13.39108325846872, 24.376171359757414, 14.486336429952466, 15.600316505099478] 16.94345918347075\n",
      "TER Score:  [180.546875, 197.48263888888889, 215.7986111111111, 233.0078125, 160.09114583333331, 320.44270833333337] 217.89496527777774\n"
     ]
    },
    {
     "ename": "UFuncTypeError",
     "evalue": "ufunc 'add' did not contain a loop with signature matching types (dtype('float64'), dtype('<U1')) -> None",
     "output_type": "error",
     "traceback": [
      "\u001b[0;31m---------------------------------------------------------------------------\u001b[0m",
      "\u001b[0;31mUFuncTypeError\u001b[0m                            Traceback (most recent call last)",
      "\u001b[0;32m/tmp/ipykernel_3346835/233659453.py\u001b[0m in \u001b[0;36m<module>\u001b[0;34m\u001b[0m\n\u001b[1;32m     31\u001b[0m     \u001b[0mf\u001b[0m\u001b[0;34m.\u001b[0m\u001b[0mwrite\u001b[0m\u001b[0;34m(\u001b[0m\u001b[0;34m\"BLEU Score: \"\u001b[0m \u001b[0;34m+\u001b[0m \u001b[0mstr\u001b[0m\u001b[0;34m(\u001b[0m\u001b[0mnp\u001b[0m\u001b[0;34m.\u001b[0m\u001b[0mmean\u001b[0m\u001b[0;34m(\u001b[0m\u001b[0mnp\u001b[0m\u001b[0;34m.\u001b[0m\u001b[0marray\u001b[0m\u001b[0;34m(\u001b[0m\u001b[0mbleu_scores\u001b[0m\u001b[0;34m)\u001b[0m\u001b[0;34m)\u001b[0m\u001b[0;34m)\u001b[0m \u001b[0;34m+\u001b[0m \u001b[0;34m\"\\n\"\u001b[0m\u001b[0;34m)\u001b[0m\u001b[0;34m\u001b[0m\u001b[0;34m\u001b[0m\u001b[0m\n\u001b[1;32m     32\u001b[0m     \u001b[0mf\u001b[0m\u001b[0;34m.\u001b[0m\u001b[0mwrite\u001b[0m\u001b[0;34m(\u001b[0m\u001b[0;34m\"CHRF Score: \"\u001b[0m \u001b[0;34m+\u001b[0m \u001b[0mstr\u001b[0m\u001b[0;34m(\u001b[0m\u001b[0mnp\u001b[0m\u001b[0;34m.\u001b[0m\u001b[0mmean\u001b[0m\u001b[0;34m(\u001b[0m\u001b[0mnp\u001b[0m\u001b[0;34m.\u001b[0m\u001b[0marray\u001b[0m\u001b[0;34m(\u001b[0m\u001b[0mchrf_scores\u001b[0m\u001b[0;34m)\u001b[0m\u001b[0;34m)\u001b[0m\u001b[0;34m)\u001b[0m \u001b[0;34m+\u001b[0m \u001b[0;34m\"\\n\"\u001b[0m\u001b[0;34m)\u001b[0m\u001b[0;34m\u001b[0m\u001b[0;34m\u001b[0m\u001b[0m\n\u001b[0;32m---> 33\u001b[0;31m     \u001b[0mf\u001b[0m\u001b[0;34m.\u001b[0m\u001b[0mwrite\u001b[0m\u001b[0;34m(\u001b[0m\u001b[0;34m\"TER Score: \"\u001b[0m \u001b[0;34m+\u001b[0m \u001b[0mstr\u001b[0m\u001b[0;34m(\u001b[0m\u001b[0mnp\u001b[0m\u001b[0;34m.\u001b[0m\u001b[0mmean\u001b[0m\u001b[0;34m(\u001b[0m\u001b[0mnp\u001b[0m\u001b[0;34m.\u001b[0m\u001b[0marray\u001b[0m\u001b[0;34m(\u001b[0m\u001b[0mter_scores\u001b[0m\u001b[0;34m)\u001b[0m\u001b[0;34m)\u001b[0m \u001b[0;34m+\u001b[0m \u001b[0;34m\"\\n\"\u001b[0m\u001b[0;34m)\u001b[0m\u001b[0;34m)\u001b[0m\u001b[0;34m\u001b[0m\u001b[0;34m\u001b[0m\u001b[0m\n\u001b[0m\u001b[1;32m     34\u001b[0m \u001b[0;34m\u001b[0m\u001b[0m\n\u001b[1;32m     35\u001b[0m \u001b[0mprint\u001b[0m\u001b[0;34m(\u001b[0m\u001b[0;34m\"Results written to: \"\u001b[0m\u001b[0;34m,\u001b[0m \u001b[0mtarget_file\u001b[0m\u001b[0;34m)\u001b[0m\u001b[0;34m\u001b[0m\u001b[0;34m\u001b[0m\u001b[0m\n",
      "\u001b[0;31mUFuncTypeError\u001b[0m: ufunc 'add' did not contain a loop with signature matching types (dtype('float64'), dtype('<U1')) -> None"
     ]
    }
   ],
   "source": [
    "bleu_scores = []\n",
    "chrf_scores = []\n",
    "ter_scores = []\n",
    "for i in range(len(pred_data)):\n",
    "    reference_sentences = references_texts[i]\n",
    "    blue_scores_i = []\n",
    "    chrf_scores_i = []\n",
    "    ter_scores_i = []\n",
    "    for pred in pred_data[i]['generation_complete']:\n",
    "        blue_scores_i.append(sacrebleu.corpus_bleu([pred], [reference_sentences]).score)\n",
    "        chrf_scores_i.append(sacrebleu.corpus_chrf([pred], [reference_sentences]).score)\n",
    "        ter_scores_i.append(sacrebleu.corpus_ter([pred], [reference_sentences]).score)\n",
    "    bleu_scores.append(np.mean(np.array(blue_scores_i)))\n",
    "    chrf_scores.append(np.mean(np.array(chrf_scores_i)))\n",
    "    ter_scores.append(np.mean(np.array(ter_scores_i)))\n",
    "\n",
    "print(\"BLEU Score: \", bleu_scores, np.mean(np.array(bleu_scores)))\n",
    "print(\"CHRF Score: \", chrf_scores, np.mean(np.array(chrf_scores)))\n",
    "print(\"TER Score: \", ter_scores, np.mean(np.array(ter_scores)))\n",
    "target_file = \"abc.txt\"\n",
    "\n",
    "with open(target_file, \"w\") as f:\n",
    "    for i in range(len(pred_data)):\n",
    "        f.write(\"Concept Set: \" + str(concept_sets[i]) + \"\\n\")\n",
    "        f.write(\"BLEU Scores: \" + str(bleu_scores[i]) + \"\\n\")\n",
    "        f.write(\"CHRF Scores: \" + str(chrf_scores[i]) + \"\\n\")\n",
    "        f.write(\"TER Scores: \" + str(ter_scores[i]) + \"\\n\")\n",
    "        f.write(\"=============================================\\n\")\n",
    "\n",
    "    f.write(\"Overall Results\\n\")\n",
    "    f.write(\"BLEU Score: \" + str(np.mean(np.array(bleu_scores))) + \"\\n\")\n",
    "    f.write(\"CHRF Score: \" + str(np.mean(np.array(chrf_scores))) + \"\\n\")\n",
    "    f.write(\"TER Score: \" + str(np.mean(np.array(ter_scores)) + \"\\n\"))\n",
    "\n",
    "print(\"Results written to: \", target_file)\n"
   ]
  },
  {
   "cell_type": "code",
   "execution_count": null,
   "metadata": {},
   "outputs": [
    {
     "name": "stdout",
     "output_type": "stream",
     "text": [
      "1\n"
     ]
    }
   ],
   "source": [
    "print(len(references_texts))"
   ]
  }
 ],
 "metadata": {
  "kernelspec": {
   "display_name": "base",
   "language": "python",
   "name": "python3"
  },
  "language_info": {
   "codemirror_mode": {
    "name": "ipython",
    "version": 3
   },
   "file_extension": ".py",
   "mimetype": "text/x-python",
   "name": "python",
   "nbconvert_exporter": "python",
   "pygments_lexer": "ipython3",
   "version": "3.9.13"
  }
 },
 "nbformat": 4,
 "nbformat_minor": 2
}
