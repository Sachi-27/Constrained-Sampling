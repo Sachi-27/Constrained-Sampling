{
 "cells": [
  {
   "cell_type": "code",
   "execution_count": 27,
   "metadata": {},
   "outputs": [],
   "source": [
    "import json\n",
    "from bert_score import BERTScorer\n",
    "import numpy as np"
   ]
  },
  {
   "cell_type": "code",
   "execution_count": 28,
   "metadata": {},
   "outputs": [],
   "source": [
    "with open(\"/raid/speech/sabyasachi/Translation/COLD_decoding/data/commongen/commongen.dev.jsonl\", \"r\") as f:\n",
    "    data = [json.loads(line) for line in f]\n",
    "\n",
    "sentences = []\n",
    "for i in range(len(data)):\n",
    "\n",
    "    sentences.append(data[i][\"scene\"])"
   ]
  },
  {
   "cell_type": "code",
   "execution_count": 29,
   "metadata": {},
   "outputs": [],
   "source": [
    "start = 0\n",
    "end = 6\n",
    "sentences = sentences[start:end]"
   ]
  },
  {
   "cell_type": "code",
   "execution_count": 30,
   "metadata": {},
   "outputs": [],
   "source": [
    "with open(\"/raid/speech/sabyasachi/Translation/COLD_decoding/data/commongen/cw_ac2w_changes/0f_zx_seed12_0_5_lexical_generation_cw0.500_c2w0.600_lrnllp0.400_len10_topk5_niter2000_frozlen0_winiter1000_noiseiter1_gsstd0.0100_lr0.100_lrratio1.00_lriter1000_50,500,1000,1500_1,0.5,0.1,0.05_output.json\") as f:\n",
    "    pred_data = [json.loads(line) for line in f]"
   ]
  },
  {
   "cell_type": "code",
   "execution_count": 31,
   "metadata": {},
   "outputs": [],
   "source": [
    "pred_sentences = []\n",
    "\n",
    "for i in range(len(pred_data)):\n",
    "    pred_sentences.append(pred_data[i][\"generation_complete\"])"
   ]
  },
  {
   "cell_type": "code",
   "execution_count": 32,
   "metadata": {},
   "outputs": [],
   "source": [
    "scorer = BERTScorer(model_type='bert-base-uncased')"
   ]
  },
  {
   "cell_type": "code",
   "execution_count": 33,
   "metadata": {},
   "outputs": [],
   "source": [
    "P_avg = []\n",
    "R_avg = []\n",
    "F1_avg = []"
   ]
  },
  {
   "cell_type": "code",
   "execution_count": 34,
   "metadata": {},
   "outputs": [],
   "source": [
    "# all_BERT = []"
   ]
  },
  {
   "cell_type": "code",
   "execution_count": 35,
   "metadata": {},
   "outputs": [],
   "source": [
    "for i in range(len(pred_sentences)):\n",
    "    P = []\n",
    "    R = []\n",
    "    F1 = []\n",
    "    for j in range(len(pred_sentences[i])):\n",
    "        for k in range(len(sentences[i])):\n",
    "            # BERT = {}\n",
    "            P_, R_, F1_ = scorer.score([pred_sentences[i][j]], [sentences[i][k]])\n",
    "            # BERT[\"reference\"] = sentences[i][k]\n",
    "            # BERT[\"generated\"] = pred_sentences[i][j]\n",
    "            # BERT[\"precision\"] = np.round(P_.item(), 2)\n",
    "            # BERT[\"recall\"] = np.round(R_.item(), 2)\n",
    "            # BERT[\"F1\"] = np.round(F1_.item(), 2)\n",
    "            # all_BERT.append(BERT)\n",
    "            P.append(P_)\n",
    "            R.append(R_)\n",
    "            F1.append(F1_)\n",
    "\n",
    "    P_avg.append(np.mean(P))\n",
    "    R_avg.append(np.mean(R))\n",
    "    F1_avg.append(np.mean(F1))"
   ]
  },
  {
   "cell_type": "code",
   "execution_count": 36,
   "metadata": {},
   "outputs": [],
   "source": [
    "# with open(\"BERT.json\", \"w\") as outfile:\n",
    "#     for BERT_score in all_BERT:\n",
    "#         json.dump(BERT_score, outfile)\n",
    "#         outfile.write('\\n')"
   ]
  },
  {
   "cell_type": "code",
   "execution_count": 37,
   "metadata": {},
   "outputs": [
    {
     "name": "stdout",
     "output_type": "stream",
     "text": [
      "P 0.39645255\n",
      "R 0.46549782\n",
      "F1 0.4269277\n"
     ]
    }
   ],
   "source": [
    "print(\"P\", np.mean(P_avg))\n",
    "print(\"R\", np.mean(R_avg))\n",
    "print(\"F1\", np.mean(F1_avg))"
   ]
  },
  {
   "cell_type": "code",
   "execution_count": 38,
   "metadata": {},
   "outputs": [
    {
     "data": {
      "text/plain": [
       "[0.38933364, 0.46465468, 0.42223388, 0.43990493, 0.42788827, 0.4175509]"
      ]
     },
     "execution_count": 38,
     "metadata": {},
     "output_type": "execute_result"
    }
   ],
   "source": [
    "F1_avg"
   ]
  },
  {
   "cell_type": "code",
   "execution_count": 39,
   "metadata": {},
   "outputs": [
    {
     "name": "stdout",
     "output_type": "stream",
     "text": [
      "BERTScore Precision: 1.0000, Recall: 1.0000, F1: 1.0000\n"
     ]
    }
   ],
   "source": [
    "# from transformers import BertTokenizer, BertForMaskedLM, BertModel\n",
    "\n",
    "\n",
    "# Example texts\n",
    "reference = \"This is a reference text example.\"\n",
    "candidate = \"This is a reference text example.\"\n",
    "# BERTScore calculation\n",
    "scorer = BERTScorer(model_type='bert-base-uncased')\n",
    "P, R, F1 = scorer.score([candidate], [reference])\n",
    "print(f\"BERTScore Precision: {P.mean():.4f}, Recall: {R.mean():.4f}, F1: {F1.mean():.4f}\")\n"
   ]
  }
 ],
 "metadata": {
  "kernelspec": {
   "display_name": "menv",
   "language": "python",
   "name": "python3"
  },
  "language_info": {
   "codemirror_mode": {
    "name": "ipython",
    "version": 3
   },
   "file_extension": ".py",
   "mimetype": "text/x-python",
   "name": "python",
   "nbconvert_exporter": "python",
   "pygments_lexer": "ipython3",
   "version": "3.11.5"
  }
 },
 "nbformat": 4,
 "nbformat_minor": 2
}
